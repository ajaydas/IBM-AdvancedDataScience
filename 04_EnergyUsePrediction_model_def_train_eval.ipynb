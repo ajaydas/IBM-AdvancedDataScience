{
 "cells": [
  {
   "cell_type": "markdown",
   "metadata": {},
   "source": [
    "## Model Definition, Training and Evaluation\n",
    "1. Import required packages\n",
    "2. Import data\n",
    "3. Perform data transformation and feature engineering\n",
    "4. Create train and test split and feature scaling\n",
    "5. Train Models\n",
    "6. Evaluate models using model score on test data\n",
    "7. Perform feature selection using feature importance and correlation between features\n",
    "8. Select the highest scoring model and perform model parameter tuning\n",
    "9. Finalize the model for deployment"
   ]
  },
  {
   "cell_type": "code",
   "execution_count": 1,
   "metadata": {},
   "outputs": [],
   "source": [
    "import pandas as pd\n",
    "import numpy as np\n",
    "from sklearn.model_selection import train_test_split\n",
    "from sklearn.preprocessing import MinMaxScaler\n",
    "from sklearn import linear_model\n",
    "from sklearn import svm\n",
    "from sklearn.tree import DecisionTreeRegressor\n",
    "from sklearn.ensemble import GradientBoostingRegressor\n",
    "from sklearn.ensemble import AdaBoostRegressor\n",
    "from sklearn.ensemble import ExtraTreesRegressor\n",
    "from sklearn.ensemble import RandomForestRegressor\n",
    "from sklearn.ensemble import BaggingRegressor\n",
    "from sklearn.model_selection import GridSearchCV\n",
    "import matplotlib.pyplot as plt\n",
    "%matplotlib inline"
   ]
  },
  {
   "cell_type": "markdown",
   "metadata": {},
   "source": [
    "Data is available at the [UCI ML Website](https://archive.ics.uci.edu/ml/datasets/Appliances+energy+prediction)"
   ]
  },
  {
   "cell_type": "code",
   "execution_count": 2,
   "metadata": {},
   "outputs": [],
   "source": [
    "# Importing the data file\n",
    "\n",
    "df = pd.read_csv('energydata_complete.csv', parse_dates=['date'])"
   ]
  },
  {
   "cell_type": "code",
   "execution_count": 3,
   "metadata": {},
   "outputs": [],
   "source": [
    "# Drop random variables as they are not used for prediction\n",
    "\n",
    "df.drop(['rv1', 'rv2'], axis=1, inplace=True)"
   ]
  },
  {
   "cell_type": "code",
   "execution_count": 4,
   "metadata": {},
   "outputs": [
    {
     "data": {
      "text/html": [
       "<div>\n",
       "<style scoped>\n",
       "    .dataframe tbody tr th:only-of-type {\n",
       "        vertical-align: middle;\n",
       "    }\n",
       "\n",
       "    .dataframe tbody tr th {\n",
       "        vertical-align: top;\n",
       "    }\n",
       "\n",
       "    .dataframe thead th {\n",
       "        text-align: right;\n",
       "    }\n",
       "</style>\n",
       "<table border=\"1\" class=\"dataframe\">\n",
       "  <thead>\n",
       "    <tr style=\"text-align: right;\">\n",
       "      <th></th>\n",
       "      <th>date</th>\n",
       "      <th>Appliances</th>\n",
       "      <th>lights</th>\n",
       "      <th>T1</th>\n",
       "      <th>RH_1</th>\n",
       "      <th>T2</th>\n",
       "      <th>RH_2</th>\n",
       "      <th>T3</th>\n",
       "      <th>RH_3</th>\n",
       "      <th>T4</th>\n",
       "      <th>...</th>\n",
       "      <th>T8</th>\n",
       "      <th>RH_8</th>\n",
       "      <th>T9</th>\n",
       "      <th>RH_9</th>\n",
       "      <th>T_out</th>\n",
       "      <th>Press_mm_hg</th>\n",
       "      <th>RH_out</th>\n",
       "      <th>Windspeed</th>\n",
       "      <th>Visibility</th>\n",
       "      <th>Tdewpoint</th>\n",
       "    </tr>\n",
       "  </thead>\n",
       "  <tbody>\n",
       "    <tr>\n",
       "      <th>0</th>\n",
       "      <td>2016-01-11 17:00:00</td>\n",
       "      <td>60</td>\n",
       "      <td>30</td>\n",
       "      <td>19.89</td>\n",
       "      <td>47.596667</td>\n",
       "      <td>19.2</td>\n",
       "      <td>44.790000</td>\n",
       "      <td>19.79</td>\n",
       "      <td>44.730000</td>\n",
       "      <td>19.000000</td>\n",
       "      <td>...</td>\n",
       "      <td>18.2</td>\n",
       "      <td>48.900000</td>\n",
       "      <td>17.033333</td>\n",
       "      <td>45.53</td>\n",
       "      <td>6.600000</td>\n",
       "      <td>733.5</td>\n",
       "      <td>92.0</td>\n",
       "      <td>7.000000</td>\n",
       "      <td>63.000000</td>\n",
       "      <td>5.3</td>\n",
       "    </tr>\n",
       "    <tr>\n",
       "      <th>1</th>\n",
       "      <td>2016-01-11 17:10:00</td>\n",
       "      <td>60</td>\n",
       "      <td>30</td>\n",
       "      <td>19.89</td>\n",
       "      <td>46.693333</td>\n",
       "      <td>19.2</td>\n",
       "      <td>44.722500</td>\n",
       "      <td>19.79</td>\n",
       "      <td>44.790000</td>\n",
       "      <td>19.000000</td>\n",
       "      <td>...</td>\n",
       "      <td>18.2</td>\n",
       "      <td>48.863333</td>\n",
       "      <td>17.066667</td>\n",
       "      <td>45.56</td>\n",
       "      <td>6.483333</td>\n",
       "      <td>733.6</td>\n",
       "      <td>92.0</td>\n",
       "      <td>6.666667</td>\n",
       "      <td>59.166667</td>\n",
       "      <td>5.2</td>\n",
       "    </tr>\n",
       "    <tr>\n",
       "      <th>2</th>\n",
       "      <td>2016-01-11 17:20:00</td>\n",
       "      <td>50</td>\n",
       "      <td>30</td>\n",
       "      <td>19.89</td>\n",
       "      <td>46.300000</td>\n",
       "      <td>19.2</td>\n",
       "      <td>44.626667</td>\n",
       "      <td>19.79</td>\n",
       "      <td>44.933333</td>\n",
       "      <td>18.926667</td>\n",
       "      <td>...</td>\n",
       "      <td>18.2</td>\n",
       "      <td>48.730000</td>\n",
       "      <td>17.000000</td>\n",
       "      <td>45.50</td>\n",
       "      <td>6.366667</td>\n",
       "      <td>733.7</td>\n",
       "      <td>92.0</td>\n",
       "      <td>6.333333</td>\n",
       "      <td>55.333333</td>\n",
       "      <td>5.1</td>\n",
       "    </tr>\n",
       "    <tr>\n",
       "      <th>3</th>\n",
       "      <td>2016-01-11 17:30:00</td>\n",
       "      <td>50</td>\n",
       "      <td>40</td>\n",
       "      <td>19.89</td>\n",
       "      <td>46.066667</td>\n",
       "      <td>19.2</td>\n",
       "      <td>44.590000</td>\n",
       "      <td>19.79</td>\n",
       "      <td>45.000000</td>\n",
       "      <td>18.890000</td>\n",
       "      <td>...</td>\n",
       "      <td>18.1</td>\n",
       "      <td>48.590000</td>\n",
       "      <td>17.000000</td>\n",
       "      <td>45.40</td>\n",
       "      <td>6.250000</td>\n",
       "      <td>733.8</td>\n",
       "      <td>92.0</td>\n",
       "      <td>6.000000</td>\n",
       "      <td>51.500000</td>\n",
       "      <td>5.0</td>\n",
       "    </tr>\n",
       "    <tr>\n",
       "      <th>4</th>\n",
       "      <td>2016-01-11 17:40:00</td>\n",
       "      <td>60</td>\n",
       "      <td>40</td>\n",
       "      <td>19.89</td>\n",
       "      <td>46.333333</td>\n",
       "      <td>19.2</td>\n",
       "      <td>44.530000</td>\n",
       "      <td>19.79</td>\n",
       "      <td>45.000000</td>\n",
       "      <td>18.890000</td>\n",
       "      <td>...</td>\n",
       "      <td>18.1</td>\n",
       "      <td>48.590000</td>\n",
       "      <td>17.000000</td>\n",
       "      <td>45.40</td>\n",
       "      <td>6.133333</td>\n",
       "      <td>733.9</td>\n",
       "      <td>92.0</td>\n",
       "      <td>5.666667</td>\n",
       "      <td>47.666667</td>\n",
       "      <td>4.9</td>\n",
       "    </tr>\n",
       "  </tbody>\n",
       "</table>\n",
       "<p>5 rows × 27 columns</p>\n",
       "</div>"
      ],
      "text/plain": [
       "                 date  Appliances  lights     T1       RH_1    T2       RH_2  \\\n",
       "0 2016-01-11 17:00:00          60      30  19.89  47.596667  19.2  44.790000   \n",
       "1 2016-01-11 17:10:00          60      30  19.89  46.693333  19.2  44.722500   \n",
       "2 2016-01-11 17:20:00          50      30  19.89  46.300000  19.2  44.626667   \n",
       "3 2016-01-11 17:30:00          50      40  19.89  46.066667  19.2  44.590000   \n",
       "4 2016-01-11 17:40:00          60      40  19.89  46.333333  19.2  44.530000   \n",
       "\n",
       "      T3       RH_3         T4  ...    T8       RH_8         T9   RH_9  \\\n",
       "0  19.79  44.730000  19.000000  ...  18.2  48.900000  17.033333  45.53   \n",
       "1  19.79  44.790000  19.000000  ...  18.2  48.863333  17.066667  45.56   \n",
       "2  19.79  44.933333  18.926667  ...  18.2  48.730000  17.000000  45.50   \n",
       "3  19.79  45.000000  18.890000  ...  18.1  48.590000  17.000000  45.40   \n",
       "4  19.79  45.000000  18.890000  ...  18.1  48.590000  17.000000  45.40   \n",
       "\n",
       "      T_out  Press_mm_hg  RH_out  Windspeed  Visibility  Tdewpoint  \n",
       "0  6.600000        733.5    92.0   7.000000   63.000000        5.3  \n",
       "1  6.483333        733.6    92.0   6.666667   59.166667        5.2  \n",
       "2  6.366667        733.7    92.0   6.333333   55.333333        5.1  \n",
       "3  6.250000        733.8    92.0   6.000000   51.500000        5.0  \n",
       "4  6.133333        733.9    92.0   5.666667   47.666667        4.9  \n",
       "\n",
       "[5 rows x 27 columns]"
      ]
     },
     "execution_count": 4,
     "metadata": {},
     "output_type": "execute_result"
    }
   ],
   "source": [
    "df.head()"
   ]
  },
  {
   "cell_type": "code",
   "execution_count": 5,
   "metadata": {},
   "outputs": [
    {
     "data": {
      "text/plain": [
       "(19735, 27)"
      ]
     },
     "execution_count": 5,
     "metadata": {},
     "output_type": "execute_result"
    }
   ],
   "source": [
    "df.shape"
   ]
  },
  {
   "cell_type": "code",
   "execution_count": 6,
   "metadata": {},
   "outputs": [
    {
     "data": {
      "text/plain": [
       "(12858, 27)"
      ]
     },
     "execution_count": 6,
     "metadata": {},
     "output_type": "execute_result"
    }
   ],
   "source": [
    "df_train = df[df['date']<'2016-04-10']\n",
    "df_train.shape"
   ]
  },
  {
   "cell_type": "code",
   "execution_count": 7,
   "metadata": {},
   "outputs": [
    {
     "data": {
      "text/plain": [
       "(6877, 27)"
      ]
     },
     "execution_count": 7,
     "metadata": {},
     "output_type": "execute_result"
    }
   ],
   "source": [
    "df_test = df[df['date']>='2016-04-10']\n",
    "df_test.shape"
   ]
  },
  {
   "cell_type": "markdown",
   "metadata": {},
   "source": [
    "### Creating Hour, Weekday and Month from Date\n",
    "Use the date column to extract hour of day, day of the week and month to use any hourly, weekly and monthly patterns."
   ]
  },
  {
   "cell_type": "code",
   "execution_count": 8,
   "metadata": {},
   "outputs": [],
   "source": [
    "# Extracting hour of day, day of week and month from date\n",
    "\n",
    "df['hour'] = df.date.dt.hour\n",
    "df['weekday'] = df.date.dt.dayofweek\n",
    "df['month'] = df.date.dt.month\n",
    "\n",
    "#df_train['hour'] = df_train.date.dt.hour\n",
    "#df_train['weekday'] = df_train.date.dt.dayofweek\n",
    "#df_train['month'] = df_train.date.dt.month\n",
    "\n",
    "#df_test['hour'] = df_test.date.dt.hour\n",
    "#df_test['weekday'] = df_test.date.dt.dayofweek\n",
    "#df_test['month'] = df_test.date.dt.month"
   ]
  },
  {
   "cell_type": "markdown",
   "metadata": {},
   "source": [
    "### Transforming existing features\n",
    "1. Create Log of energy use by appliances\n",
    "2. Create average of inside and outside temperatures that are highly correlated with each other\n",
    "3. Create difference between inside and outside temperatures\n",
    "4. Create average of inside and outside humidity that are highly correlated with each other\n",
    "5. Create difference between inside and outside humidity\n",
    "6. Create one hot encoding (using dummies) for categorical data of hour, weekday, and month \n",
    "7. Split the data into training and testing data sets\n",
    "8. Scale the data using Min-Max scaler because it preserves the one-hot encoding\n",
    "9. Transforming the Train and Test data using the scaler\n",
    "10. Making the y values 1 dimentional numpy arrays to be used in models"
   ]
  },
  {
   "cell_type": "code",
   "execution_count": 9,
   "metadata": {},
   "outputs": [],
   "source": [
    "# Calculating log of appliance energy use column\n",
    "\n",
    "df['log_energy'] = np.log(df['Appliances'])\n",
    "\n",
    "#df_train['log_energy'] = np.log(df_train['Appliances'])\n",
    "\n",
    "#df_test['log_energy'] = np.log(df_test['Appliances'])"
   ]
  },
  {
   "cell_type": "code",
   "execution_count": 10,
   "metadata": {},
   "outputs": [],
   "source": [
    "# Calculating average of inside Temperature and Humidity\n",
    "\n",
    "Temp_in = ['T1','T3','T4','T5','T7','T8','T9']\n",
    "Hum_in = ['RH_1','RH_3','RH_4','RH_7','RH_8','RH_9']\n",
    "\n",
    "df['Temp_in'] = np.nanmean(df[Temp_in], axis=1)\n",
    "df['Hum_in'] = np.nanmean(df[Hum_in], axis=1)\n",
    "\n",
    "#df_train['Temp_in'] = np.nanmean(df_train[Temp_in], axis=1)\n",
    "#df_train['Hum_in'] = np.nanmean(df_train[Hum_in], axis=1)\n",
    "\n",
    "#df_test['Temp_in'] = np.nanmean(df_test[Temp_in], axis=1)\n",
    "#df_test['Hum_in'] = np.nanmean(df_test[Hum_in], axis=1)"
   ]
  },
  {
   "cell_type": "code",
   "execution_count": 11,
   "metadata": {},
   "outputs": [],
   "source": [
    "# Calculating difference between inside and outside temperature and humidity\n",
    "\n",
    "df['Temp_diff'] = np.abs(df['T_out'] - df['Temp_in'])\n",
    "df['Hum_diff'] = np.abs(df['RH_out'] - df['Hum_in'])\n",
    "\n",
    "#df_train['Temp_diff'] = np.abs(df_train['T_out'] - df_train['Temp_in'])\n",
    "#df_train['Hum_diff'] = np.abs(df_train['RH_out'] - df_train['Hum_in'])\n",
    "\n",
    "#df_test['Temp_diff'] = np.abs(df_test['T_out'] - df_test['Temp_in'])\n",
    "#df_test['Hum_diff'] = np.abs(df_test['RH_out'] - df_test['Hum_in'])"
   ]
  },
  {
   "cell_type": "code",
   "execution_count": 12,
   "metadata": {},
   "outputs": [],
   "source": [
    "# Selecting X and Y columns before creating dummies\n",
    "\n",
    "X_cols = ['T1', 'RH_1', 'T2', 'RH_2', 'T3', 'RH_3', 'T4', 'RH_4', 'T5', 'RH_5', 'T6', 'RH_6', 'T7', 'RH_7', 'T8',\n",
    "          'RH_8', 'T9', 'RH_9', 'T_out', 'Press_mm_hg', 'RH_out', 'Windspeed','Visibility', 'Tdewpoint', 'hour',\n",
    "          'Temp_in', 'Hum_in', 'Temp_diff', 'Hum_diff', 'weekday', 'month']\n",
    "y_col = ['log_energy']\n",
    "\n",
    "\n",
    "X = df[X_cols]\n",
    "y = df[y_col]\n",
    "\n",
    "#X_train = df_train[X_cols]\n",
    "#y_train = df_train[y_col]\n",
    "\n",
    "#X_test = df_test[X_cols]\n",
    "#y_test = df_test[y_col]"
   ]
  },
  {
   "cell_type": "code",
   "execution_count": 13,
   "metadata": {},
   "outputs": [],
   "source": [
    "# Creating one-hot encoding for hour, dayofweek and month using dummies. \n",
    "\n",
    "X = pd.concat([X, pd.get_dummies(df.hour, prefix='h')], axis=1)\n",
    "X = pd.concat([X, pd.get_dummies(df.weekday, prefix='w')], axis=1)\n",
    "X = pd.concat([X, pd.get_dummies(df.month, prefix='m')], axis=1)\n",
    "\n",
    "#X_train = pd.concat([X_train, pd.get_dummies(df_train.hour, prefix='h')], axis=1)\n",
    "#X_train = pd.concat([X_train, pd.get_dummies(df_train.weekday, prefix='w')], axis=1)\n",
    "#X_train = pd.concat([X_train, pd.get_dummies(df_train.month, prefix='m')], axis=1)\n",
    "\n",
    "#X_test = pd.concat([X_test, pd.get_dummies(df_test.hour, prefix='h')], axis=1)\n",
    "#X_test = pd.concat([X_test, pd.get_dummies(df_test.weekday, prefix='w')], axis=1)\n",
    "#X_test = pd.concat([X_test, pd.get_dummies(df_test.month, prefix='m')], axis=1)"
   ]
  },
  {
   "cell_type": "code",
   "execution_count": 15,
   "metadata": {},
   "outputs": [],
   "source": [
    "# Dropping hour, weekday and month columns after creating dummies\n",
    "\n",
    "X = X.drop(['hour', 'weekday'], axis=1)\n",
    "\n",
    "#X_train = X_train.drop(['hour', 'weekday'], axis=1)\n",
    "\n",
    "#X_test = X_test.drop(['hour', 'weekday'], axis=1)"
   ]
  },
  {
   "cell_type": "code",
   "execution_count": 16,
   "metadata": {},
   "outputs": [],
   "source": [
    "# Creating Training and Test data split with 30% test data\n",
    "\n",
    "X_train, X_test, y_train, y_test = train_test_split(X, y, test_size = 0.3, random_state = 42)"
   ]
  },
  {
   "cell_type": "code",
   "execution_count": 17,
   "metadata": {},
   "outputs": [],
   "source": [
    "# Creating the Min-Max scaler and transforming features\n",
    "\n",
    "scaler = MinMaxScaler()\n",
    "scaler.fit(X_train)\n",
    "\n",
    "X_train = scaler.transform(X_train)\n",
    "X_test = scaler.transform(X_test)"
   ]
  },
  {
   "cell_type": "code",
   "execution_count": 18,
   "metadata": {},
   "outputs": [],
   "source": [
    "# Making y values numpy 1-dimentional arrays\n",
    "\n",
    "y_train = y_train['log_energy'].ravel()\n",
    "y_test = y_test['log_energy'].ravel()"
   ]
  },
  {
   "cell_type": "markdown",
   "metadata": {},
   "source": [
    "## Model Evaluation with all features without selection"
   ]
  },
  {
   "cell_type": "markdown",
   "metadata": {},
   "source": [
    "### Using Liner Regression Models\n",
    "1. Using Linear Regression\n",
    "2. Using Ridge Regression\n",
    "3. Using Lasso Regression"
   ]
  },
  {
   "cell_type": "code",
   "execution_count": 19,
   "metadata": {},
   "outputs": [
    {
     "data": {
      "text/plain": [
       "0.36217805051008434"
      ]
     },
     "execution_count": 19,
     "metadata": {},
     "output_type": "execute_result"
    }
   ],
   "source": [
    "# Simple linear regression\n",
    "\n",
    "lin = linear_model.LinearRegression()\n",
    "lin.fit(X_train, y_train)\n",
    "lin.score(X_test, y_test)"
   ]
  },
  {
   "cell_type": "code",
   "execution_count": 20,
   "metadata": {},
   "outputs": [
    {
     "data": {
      "text/plain": [
       "0.36082677207687475"
      ]
     },
     "execution_count": 20,
     "metadata": {},
     "output_type": "execute_result"
    }
   ],
   "source": [
    "# Ridge regression\n",
    "\n",
    "ridge = linear_model.Ridge(alpha=.5)\n",
    "ridge.fit(X_train, y_train)\n",
    "ridge.score(X_test, y_test)"
   ]
  },
  {
   "cell_type": "code",
   "execution_count": 21,
   "metadata": {},
   "outputs": [
    {
     "data": {
      "text/plain": [
       "-7.24825647790972e-06"
      ]
     },
     "execution_count": 21,
     "metadata": {},
     "output_type": "execute_result"
    }
   ],
   "source": [
    "# Lasso Regression\n",
    "\n",
    "lasso = linear_model.Lasso(alpha=0.1)\n",
    "lasso.fit(X_train, y_train)\n",
    "lasso.score(X_test, y_test)"
   ]
  },
  {
   "cell_type": "markdown",
   "metadata": {},
   "source": [
    "### Using Support Vector Machine Regression Model"
   ]
  },
  {
   "cell_type": "code",
   "execution_count": 22,
   "metadata": {},
   "outputs": [
    {
     "data": {
      "text/plain": [
       "0.49374028245274015"
      ]
     },
     "execution_count": 22,
     "metadata": {},
     "output_type": "execute_result"
    }
   ],
   "source": [
    "# Support Vector Machine regression\n",
    "\n",
    "svr = svm.SVR(gamma='scale')\n",
    "svr.fit(X_train, y_train)\n",
    "svr.score(X_test, y_test)"
   ]
  },
  {
   "cell_type": "markdown",
   "metadata": {},
   "source": [
    "### Using Decision Tree Regression Model"
   ]
  },
  {
   "cell_type": "code",
   "execution_count": 23,
   "metadata": {},
   "outputs": [
    {
     "data": {
      "text/plain": [
       "0.46393877230718517"
      ]
     },
     "execution_count": 23,
     "metadata": {},
     "output_type": "execute_result"
    }
   ],
   "source": [
    "# Iterating and iterating max_depth to improve score\n",
    "\n",
    "tree = DecisionTreeRegressor(max_depth= 40, random_state=42)\n",
    "tree.fit(X_train, y_train)\n",
    "tree.score(X_test, y_test)"
   ]
  },
  {
   "cell_type": "markdown",
   "metadata": {},
   "source": [
    "### Using Decision Tree Ensemble Models\n",
    "1. Gradient Boost Regression\n",
    "2. Ada Boost Regression\n",
    "3. Extra Trees Regression\n",
    "4. Random Forest Regression\n",
    "5. Bagging Regression"
   ]
  },
  {
   "cell_type": "code",
   "execution_count": 24,
   "metadata": {},
   "outputs": [
    {
     "data": {
      "text/plain": [
       "0.5645490428697326"
      ]
     },
     "execution_count": 24,
     "metadata": {},
     "output_type": "execute_result"
    }
   ],
   "source": [
    "# Using gradient boost regressor\n",
    "\n",
    "gbr = GradientBoostingRegressor(max_depth= 30, random_state=42)\n",
    "gbr.fit(X_train, y_train)\n",
    "gbr.score(X_test, y_test)"
   ]
  },
  {
   "cell_type": "code",
   "execution_count": 25,
   "metadata": {},
   "outputs": [
    {
     "data": {
      "text/plain": [
       "0.6807920551729432"
      ]
     },
     "execution_count": 25,
     "metadata": {},
     "output_type": "execute_result"
    }
   ],
   "source": [
    "# Using Ada Boost regressor\n",
    "\n",
    "abr = AdaBoostRegressor(base_estimator=DecisionTreeRegressor(max_depth=30), n_estimators=200, random_state=42)\n",
    "abr.fit(X_train, y_train)\n",
    "abr.score(X_test, y_test)"
   ]
  },
  {
   "cell_type": "code",
   "execution_count": 26,
   "metadata": {},
   "outputs": [
    {
     "data": {
      "text/plain": [
       "0.7160909731058722"
      ]
     },
     "execution_count": 26,
     "metadata": {},
     "output_type": "execute_result"
    }
   ],
   "source": [
    "# Using Extra Trees regressor (Model of choice with highest score)\n",
    "\n",
    "etr = ExtraTreesRegressor(n_estimators=100, random_state=42, max_depth=30)\n",
    "etr.fit(X_train, y_train)\n",
    "etr.score(X_test, y_test)"
   ]
  },
  {
   "cell_type": "code",
   "execution_count": 27,
   "metadata": {},
   "outputs": [
    {
     "data": {
      "text/plain": [
       "0.695451240836741"
      ]
     },
     "execution_count": 27,
     "metadata": {},
     "output_type": "execute_result"
    }
   ],
   "source": [
    "# Using Random Forest regressor\n",
    "\n",
    "rfr = RandomForestRegressor(n_estimators=100, random_state=42, max_depth=30)\n",
    "rfr.fit(X_train, y_train)\n",
    "rfr.score(X_test, y_test)"
   ]
  },
  {
   "cell_type": "code",
   "execution_count": 28,
   "metadata": {},
   "outputs": [
    {
     "data": {
      "text/plain": [
       "0.6956911368576681"
      ]
     },
     "execution_count": 28,
     "metadata": {},
     "output_type": "execute_result"
    }
   ],
   "source": [
    "# Using Bagging regressor\n",
    "\n",
    "br = BaggingRegressor(base_estimator=DecisionTreeRegressor(max_depth=30), n_estimators=100, random_state=42)\n",
    "br.fit(X_train, y_train)\n",
    "br.score(X_test, y_test)"
   ]
  },
  {
   "cell_type": "markdown",
   "metadata": {},
   "source": [
    "### Using Feature Importance to perform feature selection\n",
    "Iterative process to reduce features for higher accuracy and prevent overfitting\n",
    "1. Use all the features\n",
    "2. Run feature importance and drop least performing features\n",
    "3. Rerun the model with reduced features, check for accuracy and run feature importance\n",
    "4. Iterate and finalize on select minimum features with reasonable accuracy"
   ]
  },
  {
   "cell_type": "code",
   "execution_count": 29,
   "metadata": {},
   "outputs": [
    {
     "data": {
      "text/plain": [
       "array([0.02092544, 0.02247512, 0.0337289 , 0.02167002, 0.02867838,\n",
       "       0.02534775, 0.02082608, 0.01987523, 0.01942204, 0.02195628,\n",
       "       0.01858501, 0.02291267, 0.01657202, 0.01875706, 0.02743211,\n",
       "       0.02084878, 0.01534572, 0.02081001, 0.01794193, 0.02220342,\n",
       "       0.03220155, 0.02288936, 0.01801105, 0.01828325, 0.01975944,\n",
       "       0.01779715, 0.0187473 , 0.03410802, 0.00756334, 0.00281446,\n",
       "       0.00189555, 0.00185947, 0.00237277, 0.00184645, 0.00231338,\n",
       "       0.00311196, 0.00544233, 0.01103321, 0.01106268, 0.01274924,\n",
       "       0.01270189, 0.01316211, 0.01150549, 0.00830182, 0.00592009,\n",
       "       0.00854586, 0.02203327, 0.05099218, 0.02922795, 0.022485  ,\n",
       "       0.01085591, 0.0043689 , 0.00332811, 0.01167849, 0.00957422,\n",
       "       0.00964026, 0.00655321, 0.0172705 , 0.01317828, 0.00925141,\n",
       "       0.01190397, 0.00752233, 0.0067167 , 0.00758046, 0.00352568])"
      ]
     },
     "execution_count": 29,
     "metadata": {},
     "output_type": "execute_result"
    }
   ],
   "source": [
    "# Use feature importance method for Extra Trees Regressor\n",
    "\n",
    "etr.feature_importances_"
   ]
  },
  {
   "cell_type": "code",
   "execution_count": 30,
   "metadata": {},
   "outputs": [
    {
     "data": {
      "text/plain": [
       "[(0.033728903516135195, 'lights'),\n",
       " (0.032201550796516785, 'RH_9'),\n",
       " (0.02867838491189133, 'RH_1'),\n",
       " (0.027432113678804493, 'RH_6'),\n",
       " (0.02534775159333698, 'T2'),\n",
       " (0.0229126656107869, 'T5'),\n",
       " (0.022889362806362855, 'T_out'),\n",
       " (0.022475123757546057, 'Appliances'),\n",
       " (0.022203424933360468, 'T9'),\n",
       " (0.021956279340435647, 'T4'),\n",
       " (0.021670022571033773, 'T1'),\n",
       " (0.020925443473205903, 'date'),\n",
       " (0.02084877831985929, 'T7'),\n",
       " (0.02082608202381796, 'RH_2'),\n",
       " (0.020810006313232564, 'T8'),\n",
       " (0.01987522554016564, 'T3'),\n",
       " (0.019759443708463373, 'Windspeed'),\n",
       " (0.019422038441540956, 'RH_3'),\n",
       " (0.018757063475978292, 'T6'),\n",
       " (0.01874729914504812, 'Tdewpoint'),\n",
       " (0.018585010120459378, 'RH_4'),\n",
       " (0.01828324501581101, 'RH_out'),\n",
       " (0.018011046579036825, 'Press_mm_hg'),\n",
       " (0.01794192707267484, 'RH_8'),\n",
       " (0.017797145149226316, 'Visibility'),\n",
       " (0.016572016620074702, 'RH_5'),\n",
       " (0.015345719976727694, 'RH_7')]"
      ]
     },
     "execution_count": 30,
     "metadata": {},
     "output_type": "execute_result"
    }
   ],
   "source": [
    "# Sort the list with descending importance\n",
    "\n",
    "list(sorted(zip(etr.feature_importances_, df_train.columns), reverse=True))"
   ]
  },
  {
   "cell_type": "markdown",
   "metadata": {},
   "source": [
    "### Observations\n",
    "1. Week of day dummy variables do not have much effect\n",
    "2. Month dummy variables do not have much effect\n",
    "3. Only h_17, h_18, h_19, and h_20 are significant"
   ]
  },
  {
   "cell_type": "markdown",
   "metadata": {},
   "source": [
    "### Removing Date Time Dummy Variables\n",
    "Running the model after removing most of the dummy variables created using date time"
   ]
  },
  {
   "cell_type": "code",
   "execution_count": 31,
   "metadata": {},
   "outputs": [
    {
     "data": {
      "text/plain": [
       "(19735, 31)"
      ]
     },
     "execution_count": 31,
     "metadata": {},
     "output_type": "execute_result"
    }
   ],
   "source": [
    "# Removing all insignificant hourly (except 17, 18, 19, 20), day of week and monthly dummy variables including T7 and T9\n",
    "\n",
    "X = X.drop(['w_4','T7','T9','m_1','h_12','h_10','w_5','h_11','w_0','h_13','h_8','h_9','h_21','w_2','w_1','h_16','w_6',\n",
    "            'm_4','h_14','m_2','m_3','w_3','h_15','h_7','m_5','h_22','h_23','h_6','h_0','h_3','h_5','h_1','h_4','h_2'], axis=1)\n",
    "X.shape"
   ]
  },
  {
   "cell_type": "code",
   "execution_count": 32,
   "metadata": {},
   "outputs": [],
   "source": [
    "# Creating Training and Test data with scaling\n",
    "\n",
    "X_train, X_test, y_train, y_test = train_test_split(X, y, test_size = 0.3, random_state = 42)\n",
    "\n",
    "scaler.fit(X_train)\n",
    "X_train = scaler.transform(X_train)\n",
    "X_test = scaler.transform(X_test)\n",
    "\n",
    "y_train = y_train['log_energy'].ravel()\n",
    "y_test = y_test['log_energy'].ravel()"
   ]
  },
  {
   "cell_type": "code",
   "execution_count": 33,
   "metadata": {},
   "outputs": [
    {
     "data": {
      "text/plain": [
       "0.7350993269543573"
      ]
     },
     "execution_count": 33,
     "metadata": {},
     "output_type": "execute_result"
    }
   ],
   "source": [
    "# Using Extra Trees regressor (Model of choice with highest score)\n",
    "\n",
    "etr = ExtraTreesRegressor(n_estimators=100, random_state=42, max_depth=30)\n",
    "etr.fit(X_train, y_train)\n",
    "etr.score(X_test, y_test)"
   ]
  },
  {
   "cell_type": "code",
   "execution_count": 34,
   "metadata": {},
   "outputs": [
    {
     "data": {
      "text/plain": [
       "[(0.049990492138876616, 'h_18'),\n",
       " (0.04469618069592261, 'T2'),\n",
       " (0.04331872397668422, 'RH_8'),\n",
       " (0.0422727864362691, 'T3'),\n",
       " (0.0393693868712934, 'RH_out'),\n",
       " (0.038819608129326555, 'RH_1'),\n",
       " (0.03729345986204833, 'RH_3'),\n",
       " (0.036523526546882366, 'T8'),\n",
       " (0.03505146416395788, 'RH_5'),\n",
       " (0.034525406371871674, 'Hum_diff'),\n",
       " (0.03423103857779962, 'Press_mm_hg'),\n",
       " (0.03381985289992244, 'T4'),\n",
       " (0.03264829933637207, 'T6'),\n",
       " (0.03205499074412969, 'RH_9'),\n",
       " (0.03203697934919531, 'Windspeed'),\n",
       " (0.031342523257705035, 'T1'),\n",
       " (0.030742399768750577, 'RH_2'),\n",
       " (0.03070970436885609, 'RH_6'),\n",
       " (0.030545386760892634, 'T5'),\n",
       " (0.028442171990666426, 'RH_4'),\n",
       " (0.028431053114052095, 'RH_7'),\n",
       " (0.028414276384681515, 'Temp_in'),\n",
       " (0.028163503341263194, 'Tdewpoint'),\n",
       " (0.02806122578971622, 'Temp_diff'),\n",
       " (0.02774228363270772, 'h_19'),\n",
       " (0.02581111473061579, 'Hum_in'),\n",
       " (0.025429574594068145, 'T_out'),\n",
       " (0.02360191518209992, 'month'),\n",
       " (0.023484196884910043, 'Visibility'),\n",
       " (0.02162778786860775, 'h_20'),\n",
       " (0.020798686229855118, 'h_17')]"
      ]
     },
     "execution_count": 34,
     "metadata": {},
     "output_type": "execute_result"
    }
   ],
   "source": [
    "# Sort the list with descending importance\n",
    "\n",
    "list(sorted(zip(etr.feature_importances_, X.columns), reverse=True))"
   ]
  },
  {
   "cell_type": "markdown",
   "metadata": {},
   "source": [
    "### Observations\n",
    "1. The score improved from 0.718 to 0.736\n",
    "2. Top 3 features are h_18, RH_8 and T3"
   ]
  },
  {
   "cell_type": "markdown",
   "metadata": {},
   "source": [
    "### Removing sensor readings that are correlated\n",
    "Removing highly correlated sensor reading that are listed below in the feature importance"
   ]
  },
  {
   "cell_type": "code",
   "execution_count": 35,
   "metadata": {},
   "outputs": [
    {
     "data": {
      "text/plain": [
       "(19735, 20)"
      ]
     },
     "execution_count": 35,
     "metadata": {},
     "output_type": "execute_result"
    }
   ],
   "source": [
    "# Removing correlated temperature and humidity features \n",
    "# temperatures 'T4','T1','T5','T8' have correlation 0.8 and higher with T3. 'T_out' has correlation 0.97 with T6\n",
    "# humidity 'RH_3','RH_7','RH_4','RH_9' have correlation 0.8 and higher with RH_8. 'RH_6' removed due to detected sensor failure\n",
    "\n",
    "X2 = X[['h_18','RH_8','T3','T2','RH_1','RH_out','Hum_diff','Press_mm_hg','RH_5','Windspeed','T6','RH_2','Temp_in',\n",
    "       'Tdewpoint','h_19','Temp_diff','Hum_in','Visibility','h_20','h_17']]\n",
    "X2.shape"
   ]
  },
  {
   "cell_type": "code",
   "execution_count": 36,
   "metadata": {},
   "outputs": [],
   "source": [
    "# Creating Training and Test data with scaling\n",
    "\n",
    "X_train, X_test, y_train, y_test = train_test_split(X2, y, test_size = 0.3, random_state = 42)\n",
    "\n",
    "scaler.fit(X_train)\n",
    "X_train = scaler.transform(X_train)\n",
    "X_test = scaler.transform(X_test)\n",
    "\n",
    "y_train = y_train['log_energy'].ravel()\n",
    "y_test = y_test['log_energy'].ravel()"
   ]
  },
  {
   "cell_type": "code",
   "execution_count": 37,
   "metadata": {},
   "outputs": [
    {
     "data": {
      "text/plain": [
       "0.733602221039977"
      ]
     },
     "execution_count": 37,
     "metadata": {},
     "output_type": "execute_result"
    }
   ],
   "source": [
    "# Using Extra Trees regressor (Model of choice with highest score)\n",
    "\n",
    "etr = ExtraTreesRegressor(n_estimators=100, random_state=42, max_depth=30)\n",
    "etr.fit(X_train, y_train)\n",
    "etr.score(X_test, y_test)"
   ]
  },
  {
   "cell_type": "code",
   "execution_count": 38,
   "metadata": {},
   "outputs": [
    {
     "data": {
      "text/plain": [
       "[(0.06590631374075648, 'T2'),\n",
       " (0.06574468088178978, 'RH_8'),\n",
       " (0.06478297799395591, 'Temp_in'),\n",
       " (0.06469731360593739, 'T3'),\n",
       " (0.0610524300455174, 'RH_1'),\n",
       " (0.05853778081997441, 'Press_mm_hg'),\n",
       " (0.0539649820457569, 'RH_5'),\n",
       " (0.05327183445687409, 'Hum_diff'),\n",
       " (0.05301968464224224, 'T6'),\n",
       " (0.052866952535344514, 'RH_out'),\n",
       " (0.051552527659932366, 'Windspeed'),\n",
       " (0.05055474285534717, 'RH_2'),\n",
       " (0.04989583358249955, 'Hum_in'),\n",
       " (0.04980337746482072, 'h_18'),\n",
       " (0.04953328059244196, 'Tdewpoint'),\n",
       " (0.04853517385534072, 'Temp_diff'),\n",
       " (0.035551505293224046, 'Visibility'),\n",
       " (0.028095312284706308, 'h_19'),\n",
       " (0.021971515413177753, 'h_20'),\n",
       " (0.0206617802303603, 'h_17')]"
      ]
     },
     "execution_count": 38,
     "metadata": {},
     "output_type": "execute_result"
    }
   ],
   "source": [
    "# Sort the list with descending importance\n",
    "\n",
    "list(sorted(zip(etr.feature_importances_, X2.columns), reverse=True))"
   ]
  },
  {
   "cell_type": "markdown",
   "metadata": {},
   "source": [
    "### Observations\n",
    "1. Score marginally dropped from 0.736 to 0.735\n",
    "2. Top 3 features are T2, RH_8 and Temp_in\n",
    "3. h_18, which was the top feature in last iteration has dropped in importance considerably"
   ]
  },
  {
   "cell_type": "markdown",
   "metadata": {},
   "source": [
    "### Removing more hour dummy variables\n",
    "Removing h_19, h_20 and h_17 with the lowest importance"
   ]
  },
  {
   "cell_type": "code",
   "execution_count": 39,
   "metadata": {},
   "outputs": [
    {
     "data": {
      "text/plain": [
       "(19735, 17)"
      ]
     },
     "execution_count": 39,
     "metadata": {},
     "output_type": "execute_result"
    }
   ],
   "source": [
    "# Removing h_19, h_20, h_17 (importance less than 0.03)\n",
    "\n",
    "X2 = X[['h_18','RH_8','T3','T2','RH_1','RH_out','Hum_diff','Press_mm_hg','RH_5','Windspeed','T6','RH_2','Temp_in',\n",
    "       'Tdewpoint','Temp_diff','Hum_in','Visibility']]\n",
    "X2.shape"
   ]
  },
  {
   "cell_type": "code",
   "execution_count": 40,
   "metadata": {},
   "outputs": [],
   "source": [
    "# Creating Training and Test data with scaling\n",
    "\n",
    "X_train, X_test, y_train, y_test = train_test_split(X2, y, test_size = 0.3, random_state = 42)\n",
    "\n",
    "scaler.fit(X_train)\n",
    "X_train = scaler.transform(X_train)\n",
    "X_test = scaler.transform(X_test)\n",
    "\n",
    "y_train = y_train['log_energy'].ravel()\n",
    "y_test = y_test['log_energy'].ravel()"
   ]
  },
  {
   "cell_type": "code",
   "execution_count": 41,
   "metadata": {},
   "outputs": [
    {
     "data": {
      "text/plain": [
       "0.7347558914863208"
      ]
     },
     "execution_count": 41,
     "metadata": {},
     "output_type": "execute_result"
    }
   ],
   "source": [
    "# Using Extra Trees regressor (Model of choice with highest score)\n",
    "\n",
    "etr = ExtraTreesRegressor(n_estimators=100, random_state=42, max_depth=30)\n",
    "etr.fit(X_train, y_train)\n",
    "etr.score(X_test, y_test)"
   ]
  },
  {
   "cell_type": "code",
   "execution_count": 42,
   "metadata": {},
   "outputs": [
    {
     "data": {
      "text/plain": [
       "[(0.08096652952180734, 'RH_8'),\n",
       " (0.07633570509445325, 'T2'),\n",
       " (0.07063447408219199, 'RH_1'),\n",
       " (0.06784966989122485, 'T3'),\n",
       " (0.06753269755630815, 'Temp_in'),\n",
       " (0.06269240692960215, 'Press_mm_hg'),\n",
       " (0.05769243400746395, 'RH_5'),\n",
       " (0.056823182648422316, 'Hum_diff'),\n",
       " (0.054343961075540494, 'Hum_in'),\n",
       " (0.054246934245009586, 'T6'),\n",
       " (0.05382328468042783, 'RH_out'),\n",
       " (0.053686560834670286, 'Windspeed'),\n",
       " (0.053149601986313195, 'RH_2'),\n",
       " (0.05188760240613721, 'Tdewpoint'),\n",
       " (0.04997463177647174, 'h_18'),\n",
       " (0.049398983247331565, 'Temp_diff'),\n",
       " (0.03896134001662408, 'Visibility')]"
      ]
     },
     "execution_count": 42,
     "metadata": {},
     "output_type": "execute_result"
    }
   ],
   "source": [
    "# Sort the list with descending importance\n",
    "\n",
    "list(sorted(zip(etr.feature_importances_, X2.columns), reverse=True))"
   ]
  },
  {
   "cell_type": "markdown",
   "metadata": {},
   "source": [
    "### Observations\n",
    "1. Score was not affected\n",
    "2. Top features remain same\n",
    "3. Last remaining date time feature h_18 can be removed as it is in bottom 3"
   ]
  },
  {
   "cell_type": "markdown",
   "metadata": {},
   "source": [
    "### Removing last date time related variable and additional features\n",
    "Removing h_18 and Temp_diff and Visibility"
   ]
  },
  {
   "cell_type": "code",
   "execution_count": 43,
   "metadata": {},
   "outputs": [
    {
     "data": {
      "text/plain": [
       "(19735, 14)"
      ]
     },
     "execution_count": 43,
     "metadata": {},
     "output_type": "execute_result"
    }
   ],
   "source": [
    "# Removing h_18, Temp_diff, Visibility (importance less than 0.05)\n",
    "\n",
    "X2 = X[['RH_8','T3','T2','RH_1','RH_out','Hum_diff','Press_mm_hg','RH_5','Windspeed','T6','RH_2','Temp_in',\n",
    "       'Tdewpoint','Hum_in']]\n",
    "X2.shape"
   ]
  },
  {
   "cell_type": "code",
   "execution_count": 44,
   "metadata": {},
   "outputs": [],
   "source": [
    "# Creating Training and Test data with scaling\n",
    "\n",
    "X_train, X_test, y_train, y_test = train_test_split(X2, y, test_size = 0.3, random_state = 42)\n",
    "\n",
    "scaler.fit(X_train)\n",
    "X_train = scaler.transform(X_train)\n",
    "X_test = scaler.transform(X_test)\n",
    "\n",
    "y_train = y_train['log_energy'].ravel()\n",
    "y_test = y_test['log_energy'].ravel()"
   ]
  },
  {
   "cell_type": "code",
   "execution_count": 45,
   "metadata": {},
   "outputs": [
    {
     "data": {
      "text/plain": [
       "0.7411353040032742"
      ]
     },
     "execution_count": 45,
     "metadata": {},
     "output_type": "execute_result"
    }
   ],
   "source": [
    "# Using Extra Trees regressor (Model of choice with highest score)\n",
    "\n",
    "etr = ExtraTreesRegressor(n_estimators=100, random_state=42, max_depth=30)\n",
    "etr.fit(X_train, y_train)\n",
    "etr.score(X_test, y_test)"
   ]
  },
  {
   "cell_type": "code",
   "execution_count": 46,
   "metadata": {},
   "outputs": [
    {
     "data": {
      "text/plain": [
       "[(0.09347385797546856, 'RH_8'),\n",
       " (0.08647126014688934, 'T2'),\n",
       " (0.0812378508721741, 'RH_1'),\n",
       " (0.07928148682635396, 'Temp_in'),\n",
       " (0.07779515823688671, 'T3'),\n",
       " (0.07282857318297609, 'Press_mm_hg'),\n",
       " (0.07077798998526916, 'RH_out'),\n",
       " (0.06511904452557839, 'T6'),\n",
       " (0.06441012662607373, 'RH_2'),\n",
       " (0.06382065285487894, 'RH_5'),\n",
       " (0.06294578352922836, 'Hum_diff'),\n",
       " (0.06273213470182203, 'Tdewpoint'),\n",
       " (0.05984350784139062, 'Windspeed'),\n",
       " (0.05926257269501015, 'Hum_in')]"
      ]
     },
     "execution_count": 46,
     "metadata": {},
     "output_type": "execute_result"
    }
   ],
   "source": [
    "# Sort the list with descending importance\n",
    "\n",
    "list(sorted(zip(etr.feature_importances_, X2.columns), reverse=True))"
   ]
  },
  {
   "cell_type": "markdown",
   "metadata": {},
   "source": [
    "### Observations\n",
    "1. Score improved from 0.735 to 0.738\n",
    "2. Top 3 features are RH_8, T2 and RH_1"
   ]
  },
  {
   "cell_type": "markdown",
   "metadata": {},
   "source": [
    "### Removing correlated features in the final feature set\n",
    "Removing correlated features, focusing on removing calculated features"
   ]
  },
  {
   "cell_type": "code",
   "execution_count": 47,
   "metadata": {},
   "outputs": [
    {
     "data": {
      "text/plain": [
       "(19735, 14)"
      ]
     },
     "execution_count": 47,
     "metadata": {},
     "output_type": "execute_result"
    }
   ],
   "source": [
    "# Creating final feature set\n",
    "\n",
    "X2 = X[['RH_8','T2','RH_1','Temp_in','T3','Press_mm_hg','RH_out','T6','RH_2','Hum_diff','RH_5','Tdewpoint','Hum_in','Windspeed']]\n",
    "X2.shape"
   ]
  },
  {
   "cell_type": "code",
   "execution_count": 48,
   "metadata": {},
   "outputs": [
    {
     "data": {
      "text/html": [
       "<div>\n",
       "<style scoped>\n",
       "    .dataframe tbody tr th:only-of-type {\n",
       "        vertical-align: middle;\n",
       "    }\n",
       "\n",
       "    .dataframe tbody tr th {\n",
       "        vertical-align: top;\n",
       "    }\n",
       "\n",
       "    .dataframe thead th {\n",
       "        text-align: right;\n",
       "    }\n",
       "</style>\n",
       "<table border=\"1\" class=\"dataframe\">\n",
       "  <thead>\n",
       "    <tr style=\"text-align: right;\">\n",
       "      <th></th>\n",
       "      <th>RH_8</th>\n",
       "      <th>T2</th>\n",
       "      <th>RH_1</th>\n",
       "      <th>Temp_in</th>\n",
       "      <th>T3</th>\n",
       "      <th>Press_mm_hg</th>\n",
       "      <th>RH_out</th>\n",
       "      <th>T6</th>\n",
       "      <th>RH_2</th>\n",
       "      <th>Hum_diff</th>\n",
       "      <th>RH_5</th>\n",
       "      <th>Tdewpoint</th>\n",
       "      <th>Hum_in</th>\n",
       "      <th>Windspeed</th>\n",
       "    </tr>\n",
       "  </thead>\n",
       "  <tbody>\n",
       "    <tr>\n",
       "      <th>RH_8</th>\n",
       "      <td>1.000000</td>\n",
       "      <td>0.068534</td>\n",
       "      <td>0.736196</td>\n",
       "      <td>-0.091230</td>\n",
       "      <td>0.044427</td>\n",
       "      <td>-0.225591</td>\n",
       "      <td>0.487355</td>\n",
       "      <td>0.073721</td>\n",
       "      <td>0.679777</td>\n",
       "      <td>0.250538</td>\n",
       "      <td>0.359840</td>\n",
       "      <td>0.501775</td>\n",
       "      <td>0.930258</td>\n",
       "      <td>0.202380</td>\n",
       "    </tr>\n",
       "    <tr>\n",
       "      <th>T2</th>\n",
       "      <td>0.068534</td>\n",
       "      <td>1.000000</td>\n",
       "      <td>0.269839</td>\n",
       "      <td>0.750883</td>\n",
       "      <td>0.735245</td>\n",
       "      <td>-0.133028</td>\n",
       "      <td>-0.505291</td>\n",
       "      <td>0.801186</td>\n",
       "      <td>-0.165610</td>\n",
       "      <td>-0.598665</td>\n",
       "      <td>0.029595</td>\n",
       "      <td>0.582602</td>\n",
       "      <td>0.191703</td>\n",
       "      <td>0.052495</td>\n",
       "    </tr>\n",
       "    <tr>\n",
       "      <th>RH_1</th>\n",
       "      <td>0.736196</td>\n",
       "      <td>0.269839</td>\n",
       "      <td>1.000000</td>\n",
       "      <td>0.124128</td>\n",
       "      <td>0.253230</td>\n",
       "      <td>-0.293957</td>\n",
       "      <td>0.274126</td>\n",
       "      <td>0.316141</td>\n",
       "      <td>0.797535</td>\n",
       "      <td>0.028397</td>\n",
       "      <td>0.303258</td>\n",
       "      <td>0.639106</td>\n",
       "      <td>0.891651</td>\n",
       "      <td>0.204932</td>\n",
       "    </tr>\n",
       "    <tr>\n",
       "      <th>Temp_in</th>\n",
       "      <td>-0.091230</td>\n",
       "      <td>0.750883</td>\n",
       "      <td>0.124128</td>\n",
       "      <td>1.000000</td>\n",
       "      <td>0.937255</td>\n",
       "      <td>-0.151229</td>\n",
       "      <td>-0.353404</td>\n",
       "      <td>0.666419</td>\n",
       "      <td>0.023442</td>\n",
       "      <td>-0.376067</td>\n",
       "      <td>-0.078491</td>\n",
       "      <td>0.569763</td>\n",
       "      <td>-0.011784</td>\n",
       "      <td>-0.169654</td>\n",
       "    </tr>\n",
       "    <tr>\n",
       "      <th>T3</th>\n",
       "      <td>0.044427</td>\n",
       "      <td>0.735245</td>\n",
       "      <td>0.253230</td>\n",
       "      <td>0.937255</td>\n",
       "      <td>1.000000</td>\n",
       "      <td>-0.189974</td>\n",
       "      <td>-0.281718</td>\n",
       "      <td>0.686882</td>\n",
       "      <td>0.137319</td>\n",
       "      <td>-0.340740</td>\n",
       "      <td>-0.066355</td>\n",
       "      <td>0.645886</td>\n",
       "      <td>0.130780</td>\n",
       "      <td>-0.100776</td>\n",
       "    </tr>\n",
       "    <tr>\n",
       "      <th>Press_mm_hg</th>\n",
       "      <td>-0.225591</td>\n",
       "      <td>-0.133028</td>\n",
       "      <td>-0.293957</td>\n",
       "      <td>-0.151229</td>\n",
       "      <td>-0.189974</td>\n",
       "      <td>1.000000</td>\n",
       "      <td>-0.092017</td>\n",
       "      <td>-0.141643</td>\n",
       "      <td>-0.255646</td>\n",
       "      <td>-0.024725</td>\n",
       "      <td>-0.119327</td>\n",
       "      <td>-0.244098</td>\n",
       "      <td>-0.260043</td>\n",
       "      <td>-0.235032</td>\n",
       "    </tr>\n",
       "    <tr>\n",
       "      <th>RH_out</th>\n",
       "      <td>0.487355</td>\n",
       "      <td>-0.505291</td>\n",
       "      <td>0.274126</td>\n",
       "      <td>-0.353404</td>\n",
       "      <td>-0.281718</td>\n",
       "      <td>-0.092017</td>\n",
       "      <td>1.000000</td>\n",
       "      <td>-0.569119</td>\n",
       "      <td>0.584911</td>\n",
       "      <td>0.960653</td>\n",
       "      <td>0.185941</td>\n",
       "      <td>0.036506</td>\n",
       "      <td>0.398642</td>\n",
       "      <td>-0.176458</td>\n",
       "    </tr>\n",
       "    <tr>\n",
       "      <th>T6</th>\n",
       "      <td>0.073721</td>\n",
       "      <td>0.801186</td>\n",
       "      <td>0.316141</td>\n",
       "      <td>0.666419</td>\n",
       "      <td>0.686882</td>\n",
       "      <td>-0.141643</td>\n",
       "      <td>-0.569119</td>\n",
       "      <td>1.000000</td>\n",
       "      <td>-0.009670</td>\n",
       "      <td>-0.672901</td>\n",
       "      <td>-0.078337</td>\n",
       "      <td>0.764242</td>\n",
       "      <td>0.209610</td>\n",
       "      <td>0.169185</td>\n",
       "    </tr>\n",
       "    <tr>\n",
       "      <th>RH_2</th>\n",
       "      <td>0.679777</td>\n",
       "      <td>-0.165610</td>\n",
       "      <td>0.797535</td>\n",
       "      <td>0.023442</td>\n",
       "      <td>0.137319</td>\n",
       "      <td>-0.255646</td>\n",
       "      <td>0.584911</td>\n",
       "      <td>-0.009670</td>\n",
       "      <td>1.000000</td>\n",
       "      <td>0.403422</td>\n",
       "      <td>0.250271</td>\n",
       "      <td>0.499152</td>\n",
       "      <td>0.757464</td>\n",
       "      <td>0.069190</td>\n",
       "    </tr>\n",
       "    <tr>\n",
       "      <th>Hum_diff</th>\n",
       "      <td>0.250538</td>\n",
       "      <td>-0.598665</td>\n",
       "      <td>0.028397</td>\n",
       "      <td>-0.376067</td>\n",
       "      <td>-0.340740</td>\n",
       "      <td>-0.024725</td>\n",
       "      <td>0.960653</td>\n",
       "      <td>-0.672901</td>\n",
       "      <td>0.403422</td>\n",
       "      <td>1.000000</td>\n",
       "      <td>0.093582</td>\n",
       "      <td>-0.139437</td>\n",
       "      <td>0.133792</td>\n",
       "      <td>-0.266535</td>\n",
       "    </tr>\n",
       "    <tr>\n",
       "      <th>RH_5</th>\n",
       "      <td>0.359840</td>\n",
       "      <td>0.029595</td>\n",
       "      <td>0.303258</td>\n",
       "      <td>-0.078491</td>\n",
       "      <td>-0.066355</td>\n",
       "      <td>-0.119327</td>\n",
       "      <td>0.185941</td>\n",
       "      <td>-0.078337</td>\n",
       "      <td>0.250271</td>\n",
       "      <td>0.093582</td>\n",
       "      <td>1.000000</td>\n",
       "      <td>0.078175</td>\n",
       "      <td>0.355401</td>\n",
       "      <td>0.082044</td>\n",
       "    </tr>\n",
       "    <tr>\n",
       "      <th>Tdewpoint</th>\n",
       "      <td>0.501775</td>\n",
       "      <td>0.582602</td>\n",
       "      <td>0.639106</td>\n",
       "      <td>0.569763</td>\n",
       "      <td>0.645886</td>\n",
       "      <td>-0.244098</td>\n",
       "      <td>0.036506</td>\n",
       "      <td>0.764242</td>\n",
       "      <td>0.499152</td>\n",
       "      <td>-0.139437</td>\n",
       "      <td>0.078175</td>\n",
       "      <td>1.000000</td>\n",
       "      <td>0.605628</td>\n",
       "      <td>0.125972</td>\n",
       "    </tr>\n",
       "    <tr>\n",
       "      <th>Hum_in</th>\n",
       "      <td>0.930258</td>\n",
       "      <td>0.191703</td>\n",
       "      <td>0.891651</td>\n",
       "      <td>-0.011784</td>\n",
       "      <td>0.130780</td>\n",
       "      <td>-0.260043</td>\n",
       "      <td>0.398642</td>\n",
       "      <td>0.209610</td>\n",
       "      <td>0.757464</td>\n",
       "      <td>0.133792</td>\n",
       "      <td>0.355401</td>\n",
       "      <td>0.605628</td>\n",
       "      <td>1.000000</td>\n",
       "      <td>0.251568</td>\n",
       "    </tr>\n",
       "    <tr>\n",
       "      <th>Windspeed</th>\n",
       "      <td>0.202380</td>\n",
       "      <td>0.052495</td>\n",
       "      <td>0.204932</td>\n",
       "      <td>-0.169654</td>\n",
       "      <td>-0.100776</td>\n",
       "      <td>-0.235032</td>\n",
       "      <td>-0.176458</td>\n",
       "      <td>0.169185</td>\n",
       "      <td>0.069190</td>\n",
       "      <td>-0.266535</td>\n",
       "      <td>0.082044</td>\n",
       "      <td>0.125972</td>\n",
       "      <td>0.251568</td>\n",
       "      <td>1.000000</td>\n",
       "    </tr>\n",
       "  </tbody>\n",
       "</table>\n",
       "</div>"
      ],
      "text/plain": [
       "                 RH_8        T2      RH_1   Temp_in        T3  Press_mm_hg  \\\n",
       "RH_8         1.000000  0.068534  0.736196 -0.091230  0.044427    -0.225591   \n",
       "T2           0.068534  1.000000  0.269839  0.750883  0.735245    -0.133028   \n",
       "RH_1         0.736196  0.269839  1.000000  0.124128  0.253230    -0.293957   \n",
       "Temp_in     -0.091230  0.750883  0.124128  1.000000  0.937255    -0.151229   \n",
       "T3           0.044427  0.735245  0.253230  0.937255  1.000000    -0.189974   \n",
       "Press_mm_hg -0.225591 -0.133028 -0.293957 -0.151229 -0.189974     1.000000   \n",
       "RH_out       0.487355 -0.505291  0.274126 -0.353404 -0.281718    -0.092017   \n",
       "T6           0.073721  0.801186  0.316141  0.666419  0.686882    -0.141643   \n",
       "RH_2         0.679777 -0.165610  0.797535  0.023442  0.137319    -0.255646   \n",
       "Hum_diff     0.250538 -0.598665  0.028397 -0.376067 -0.340740    -0.024725   \n",
       "RH_5         0.359840  0.029595  0.303258 -0.078491 -0.066355    -0.119327   \n",
       "Tdewpoint    0.501775  0.582602  0.639106  0.569763  0.645886    -0.244098   \n",
       "Hum_in       0.930258  0.191703  0.891651 -0.011784  0.130780    -0.260043   \n",
       "Windspeed    0.202380  0.052495  0.204932 -0.169654 -0.100776    -0.235032   \n",
       "\n",
       "               RH_out        T6      RH_2  Hum_diff      RH_5  Tdewpoint  \\\n",
       "RH_8         0.487355  0.073721  0.679777  0.250538  0.359840   0.501775   \n",
       "T2          -0.505291  0.801186 -0.165610 -0.598665  0.029595   0.582602   \n",
       "RH_1         0.274126  0.316141  0.797535  0.028397  0.303258   0.639106   \n",
       "Temp_in     -0.353404  0.666419  0.023442 -0.376067 -0.078491   0.569763   \n",
       "T3          -0.281718  0.686882  0.137319 -0.340740 -0.066355   0.645886   \n",
       "Press_mm_hg -0.092017 -0.141643 -0.255646 -0.024725 -0.119327  -0.244098   \n",
       "RH_out       1.000000 -0.569119  0.584911  0.960653  0.185941   0.036506   \n",
       "T6          -0.569119  1.000000 -0.009670 -0.672901 -0.078337   0.764242   \n",
       "RH_2         0.584911 -0.009670  1.000000  0.403422  0.250271   0.499152   \n",
       "Hum_diff     0.960653 -0.672901  0.403422  1.000000  0.093582  -0.139437   \n",
       "RH_5         0.185941 -0.078337  0.250271  0.093582  1.000000   0.078175   \n",
       "Tdewpoint    0.036506  0.764242  0.499152 -0.139437  0.078175   1.000000   \n",
       "Hum_in       0.398642  0.209610  0.757464  0.133792  0.355401   0.605628   \n",
       "Windspeed   -0.176458  0.169185  0.069190 -0.266535  0.082044   0.125972   \n",
       "\n",
       "               Hum_in  Windspeed  \n",
       "RH_8         0.930258   0.202380  \n",
       "T2           0.191703   0.052495  \n",
       "RH_1         0.891651   0.204932  \n",
       "Temp_in     -0.011784  -0.169654  \n",
       "T3           0.130780  -0.100776  \n",
       "Press_mm_hg -0.260043  -0.235032  \n",
       "RH_out       0.398642  -0.176458  \n",
       "T6           0.209610   0.169185  \n",
       "RH_2         0.757464   0.069190  \n",
       "Hum_diff     0.133792  -0.266535  \n",
       "RH_5         0.355401   0.082044  \n",
       "Tdewpoint    0.605628   0.125972  \n",
       "Hum_in       1.000000   0.251568  \n",
       "Windspeed    0.251568   1.000000  "
      ]
     },
     "execution_count": 48,
     "metadata": {},
     "output_type": "execute_result"
    }
   ],
   "source": [
    "# Correlation between all final features\n",
    "\n",
    "#X2_corr = X2.corr()\n",
    "#round(X2_corr,2)\n",
    "X2.corr()"
   ]
  },
  {
   "cell_type": "markdown",
   "metadata": {},
   "source": [
    "### Observations\n",
    "1. Hum_in is correlated with RH_8 at 0.93 and can be removed\n",
    "2. Hum_diff is correlated with RH_out at 0.96 and can be removed\n",
    "3. Temp_in is correlated with T3 at 0.94 and can be removed"
   ]
  },
  {
   "cell_type": "markdown",
   "metadata": {},
   "source": [
    "### Removing correlated calculated features\n",
    "Calculated features such as Hum_in, Hum_diff and Temp_in can be removed"
   ]
  },
  {
   "cell_type": "code",
   "execution_count": 49,
   "metadata": {},
   "outputs": [
    {
     "data": {
      "text/plain": [
       "(19735, 11)"
      ]
     },
     "execution_count": 49,
     "metadata": {},
     "output_type": "execute_result"
    }
   ],
   "source": [
    "# Removing calculated correlated features\n",
    "\n",
    "X2 = X[['RH_8','T2','RH_1','T3','Press_mm_hg','RH_out','T6','RH_2','RH_5','Tdewpoint','Windspeed']]\n",
    "X2.shape"
   ]
  },
  {
   "cell_type": "code",
   "execution_count": 50,
   "metadata": {},
   "outputs": [],
   "source": [
    "# Creating Training and Test data with scaling\n",
    "\n",
    "X_train, X_test, y_train, y_test = train_test_split(X2, y, test_size = 0.3, random_state = 42)\n",
    "\n",
    "scaler.fit(X_train)\n",
    "X_train = scaler.transform(X_train)\n",
    "X_test = scaler.transform(X_test)\n",
    "\n",
    "y_train = y_train['log_energy'].ravel()\n",
    "y_test = y_test['log_energy'].ravel()"
   ]
  },
  {
   "cell_type": "code",
   "execution_count": 51,
   "metadata": {},
   "outputs": [
    {
     "data": {
      "text/plain": [
       "0.7402793722330447"
      ]
     },
     "execution_count": 51,
     "metadata": {},
     "output_type": "execute_result"
    }
   ],
   "source": [
    "# Using Extra Trees regressor (Model of choice with highest score)\n",
    "\n",
    "etr = ExtraTreesRegressor(n_estimators=100, random_state=42, max_depth=30)\n",
    "etr.fit(X_train, y_train)\n",
    "etr.score(X_test, y_test)"
   ]
  },
  {
   "cell_type": "code",
   "execution_count": 52,
   "metadata": {},
   "outputs": [
    {
     "data": {
      "text/plain": [
       "[(0.11455665396480602, 'RH_8'),\n",
       " (0.10377691156653243, 'T2'),\n",
       " (0.10205562093028077, 'RH_1'),\n",
       " (0.0977471026753053, 'RH_out'),\n",
       " (0.09620342411419129, 'T3'),\n",
       " (0.09202571913111797, 'Press_mm_hg'),\n",
       " (0.08228720681238219, 'T6'),\n",
       " (0.08073008035983494, 'RH_2'),\n",
       " (0.079462656422798, 'Tdewpoint'),\n",
       " (0.07648654814019924, 'RH_5'),\n",
       " (0.07466807588255171, 'Windspeed')]"
      ]
     },
     "execution_count": 52,
     "metadata": {},
     "output_type": "execute_result"
    }
   ],
   "source": [
    "# Sort the list with descending importance\n",
    "\n",
    "list(sorted(zip(etr.feature_importances_, X2.columns), reverse=True))"
   ]
  },
  {
   "cell_type": "markdown",
   "metadata": {},
   "source": [
    "### Observations\n",
    "1. Decrease in score from 0.738 to 0.736\n",
    "2. Increased Model simplification, no need to calculate new features"
   ]
  },
  {
   "cell_type": "markdown",
   "metadata": {},
   "source": [
    "### Using Standard Scaler instead of Min-Max scaler\n",
    "Using standard scaler for feature scaling as dummy variables are no longer used"
   ]
  },
  {
   "cell_type": "code",
   "execution_count": 53,
   "metadata": {},
   "outputs": [],
   "source": [
    "# Selecting final variables\n",
    "\n",
    "X_cols = ['RH_8','T2','RH_1','RH_out','T3','Press_mm_hg','T6','RH_2','Tdewpoint','RH_5','Windspeed']\n",
    "y_col = ['log_energy']\n",
    "\n",
    "X2 = df[X_cols]\n",
    "y = df[y_col]"
   ]
  },
  {
   "cell_type": "code",
   "execution_count": 54,
   "metadata": {},
   "outputs": [],
   "source": [
    "# Using Standard scaler as there are no dummy variables\n",
    "\n",
    "from sklearn.preprocessing import StandardScaler"
   ]
  },
  {
   "cell_type": "code",
   "execution_count": 55,
   "metadata": {},
   "outputs": [],
   "source": [
    "# Creating Training and Test data with scaling\n",
    "\n",
    "X_train, X_test, y_train, y_test = train_test_split(X2, y, test_size = 0.3, random_state = 42)\n",
    "\n",
    "scalerstd = StandardScaler()\n",
    "\n",
    "scalerstd.fit(X_train)\n",
    "X_train = scalerstd.transform(X_train)\n",
    "X_test = scalerstd.transform(X_test)\n",
    "\n",
    "y_train = y_train['log_energy'].ravel()\n",
    "y_test = y_test['log_energy'].ravel()"
   ]
  },
  {
   "cell_type": "code",
   "execution_count": 56,
   "metadata": {},
   "outputs": [
    {
     "data": {
      "text/plain": [
       "0.7410342173103119"
      ]
     },
     "execution_count": 56,
     "metadata": {},
     "output_type": "execute_result"
    }
   ],
   "source": [
    "# Using Extra Trees regressor (Model of choice with highest score)\n",
    "\n",
    "etr = ExtraTreesRegressor(n_estimators=100, random_state=42, max_depth=30)\n",
    "etr.fit(X_train, y_train)\n",
    "etr.score(X_test, y_test)"
   ]
  },
  {
   "cell_type": "code",
   "execution_count": 57,
   "metadata": {},
   "outputs": [
    {
     "data": {
      "text/plain": [
       "[(0.1138087184385186, 'RH_8'),\n",
       " (0.10240997054868299, 'T2'),\n",
       " (0.10142668553076287, 'RH_1'),\n",
       " (0.10069384488258919, 'RH_out'),\n",
       " (0.09723109844039086, 'T3'),\n",
       " (0.09139944563562535, 'Press_mm_hg'),\n",
       " (0.08185771783277948, 'T6'),\n",
       " (0.0791994004500218, 'Tdewpoint'),\n",
       " (0.07872019786616516, 'RH_2'),\n",
       " (0.07763439760607323, 'RH_5'),\n",
       " (0.07561852276839055, 'Windspeed')]"
      ]
     },
     "execution_count": 57,
     "metadata": {},
     "output_type": "execute_result"
    }
   ],
   "source": [
    "# Sort the list with descending importance\n",
    "\n",
    "list(sorted(zip(etr.feature_importances_, X2.columns), reverse=True))"
   ]
  },
  {
   "cell_type": "markdown",
   "metadata": {},
   "source": [
    "### Observations\n",
    "1. Score improved from 0.736 to 0.738\n",
    "2. Feature importance ranking remained the same\n",
    "3. Final 11 feature includes 5 Humidity, 3 Temperature and 3 weather related features\n",
    "4. 5 humidity features are RH_8 (Teenager room), RH_1 (Kitchen area), RH_out (Outside humidity), RH_2 (Living room area), and RH_5 (Bathroom)\n",
    "5. 3 temperature features are T2 (Living room area), T3 (Laundry room area) and T6 (Outside of the building)\n",
    "6. 3 Weather features are Press_mm_hg (Atmospheric pressure), Tdewpoint and Windspeed"
   ]
  },
  {
   "cell_type": "markdown",
   "metadata": {},
   "source": [
    "### Running final features through other select models"
   ]
  },
  {
   "cell_type": "code",
   "execution_count": 58,
   "metadata": {},
   "outputs": [
    {
     "data": {
      "text/plain": [
       "0.4043168168585003"
      ]
     },
     "execution_count": 58,
     "metadata": {},
     "output_type": "execute_result"
    }
   ],
   "source": [
    "# Support Vector Machine regression\n",
    "\n",
    "svr = svm.SVR(gamma='scale')\n",
    "svr.fit(X_train, y_train)\n",
    "svr.score(X_test, y_test)"
   ]
  },
  {
   "cell_type": "code",
   "execution_count": 59,
   "metadata": {},
   "outputs": [
    {
     "data": {
      "text/plain": [
       "0.6923918628729986"
      ]
     },
     "execution_count": 59,
     "metadata": {},
     "output_type": "execute_result"
    }
   ],
   "source": [
    "# Using Random Forest regressor\n",
    "\n",
    "rfr = RandomForestRegressor(n_estimators=100, random_state=42, max_depth=30)\n",
    "rfr.fit(X_train, y_train)\n",
    "rfr.score(X_test, y_test)"
   ]
  },
  {
   "cell_type": "code",
   "execution_count": 60,
   "metadata": {},
   "outputs": [
    {
     "data": {
      "text/plain": [
       "0.6910513016585542"
      ]
     },
     "execution_count": 60,
     "metadata": {},
     "output_type": "execute_result"
    }
   ],
   "source": [
    "# Using Bagging regressor\n",
    "\n",
    "br = BaggingRegressor(base_estimator=DecisionTreeRegressor(max_depth=30), n_estimators=100, random_state=42)\n",
    "br.fit(X_train, y_train)\n",
    "br.score(X_test, y_test)"
   ]
  },
  {
   "cell_type": "markdown",
   "metadata": {},
   "source": [
    "### Use Grid Search to optimize parameters\n",
    "\n",
    "1. Run Grid search on multiple parameters\n",
    "2. Find the best parameters\n",
    "2. Fix some parameters and re-run grid search on the rest\n",
    "3. Optimize the parameters for the final model"
   ]
  },
  {
   "cell_type": "code",
   "execution_count": 61,
   "metadata": {},
   "outputs": [],
   "source": [
    "# Define parameters and values search grid to avoid overfitting\n",
    "\n",
    "parameters = {'max_depth': [None, 20, 30, 50],\n",
    "              'min_samples_split': [2, 20, 50], \n",
    "              'min_samples_leaf': [1, 10, 20]\n",
    "             }"
   ]
  },
  {
   "cell_type": "code",
   "execution_count": 62,
   "metadata": {},
   "outputs": [
    {
     "data": {
      "text/plain": [
       "GridSearchCV(cv=5, estimator=ExtraTreesRegressor(max_depth=30, random_state=42),\n",
       "             param_grid={'max_depth': [None, 20, 30, 50],\n",
       "                         'min_samples_leaf': [1, 10, 20],\n",
       "                         'min_samples_split': [2, 20, 50]})"
      ]
     },
     "execution_count": 62,
     "metadata": {},
     "output_type": "execute_result"
    }
   ],
   "source": [
    "# Define Grid Search function with parameter grid. Fit to training data\n",
    "\n",
    "reg = GridSearchCV(etr, parameters, cv=5)\n",
    "reg.fit(X_train, y_train)"
   ]
  },
  {
   "cell_type": "code",
   "execution_count": 63,
   "metadata": {},
   "outputs": [
    {
     "data": {
      "text/plain": [
       "{'max_depth': 30, 'min_samples_leaf': 1, 'min_samples_split': 2}"
      ]
     },
     "execution_count": 63,
     "metadata": {},
     "output_type": "execute_result"
    }
   ],
   "source": [
    "# Find out the best parameters from the Grid Search. Run next search based on results\n",
    "\n",
    "reg.best_params_"
   ]
  },
  {
   "cell_type": "code",
   "execution_count": 64,
   "metadata": {},
   "outputs": [
    {
     "data": {
      "text/plain": [
       "0.7410342173103119"
      ]
     },
     "execution_count": 64,
     "metadata": {},
     "output_type": "execute_result"
    }
   ],
   "source": [
    "# Check the score using the best parameters and test data\n",
    "\n",
    "reg.score(X_test, y_test)"
   ]
  },
  {
   "cell_type": "markdown",
   "metadata": {},
   "source": [
    "### Observations\n",
    "1. 30 is the best parameter estimation for max_depth\n",
    "2. min_samples_split and min_samples_leaf are good at default values\n",
    "3. More number of estimators provide more accurate score at the cost of computation time\n",
    "4. Number of estimators can be determined by plotting accuracy vs computation time"
   ]
  },
  {
   "cell_type": "code",
   "execution_count": 65,
   "metadata": {},
   "outputs": [
    {
     "name": "stdout",
     "output_type": "stream",
     "text": [
      "Estimators:  100\n",
      "Wall time: 4.02 s\n",
      "Score: 0.7410342173103119\n",
      "Wall time: 144 ms\n",
      "Estimators:  200\n",
      "Wall time: 7.81 s\n",
      "Score: 0.740844651503848\n",
      "Wall time: 413 ms\n",
      "Estimators:  300\n",
      "Wall time: 11.8 s\n",
      "Score: 0.7414198200233344\n",
      "Wall time: 464 ms\n",
      "Estimators:  400\n",
      "Wall time: 16 s\n",
      "Score: 0.7419242560074181\n",
      "Wall time: 606 ms\n",
      "Estimators:  500\n",
      "Wall time: 19.5 s\n",
      "Score: 0.7418616577586366\n",
      "Wall time: 771 ms\n",
      "Estimators:  600\n",
      "Wall time: 22.8 s\n",
      "Score: 0.7419476206567349\n",
      "Wall time: 852 ms\n",
      "Estimators:  700\n",
      "Wall time: 26.7 s\n",
      "Score: 0.7418587008399671\n",
      "Wall time: 1.2 s\n",
      "Estimators:  800\n",
      "Wall time: 30.8 s\n",
      "Score: 0.7419210493251818\n",
      "Wall time: 1.2 s\n",
      "Estimators:  900\n",
      "Wall time: 34.4 s\n",
      "Score: 0.741842582929965\n",
      "Wall time: 1.28 s\n",
      "Estimators:  1000\n",
      "Wall time: 38.1 s\n",
      "Score: 0.7416586092572126\n",
      "Wall time: 1.42 s\n"
     ]
    }
   ],
   "source": [
    "# Printing time to train and score the model using estimators from 100 to 1000 using step of 100\n",
    "\n",
    "for i in range(100,1100,100):\n",
    "    print('Estimators: ', str(i))\n",
    "    etr = ExtraTreesRegressor(n_estimators=i, random_state=42, max_depth=30)\n",
    "    %time etr.fit(X_train, y_train)\n",
    "    %time print('Score:', etr.score(X_test, y_test))"
   ]
  },
  {
   "cell_type": "code",
   "execution_count": 66,
   "metadata": {},
   "outputs": [],
   "source": [
    "# Creating x, y variables for plotting\n",
    "\n",
    "train_time = [4.66, 9.29, 14.2, 18.6, 23.1, 27.2, 32.3, 37.2, 40.7, 44.9]\n",
    "score = [0.7375, 0.7397, 0.7392, 0.7401, 0.7406, 0.7411, 0.7410, 0.7410, 0.7412, 0.7409]\n",
    "score_time = [0.154, 0.328, 0.466, 0.651, 0.897, 0.979, 1.61, 1.31, 1.48, 1.65]"
   ]
  },
  {
   "cell_type": "code",
   "execution_count": 67,
   "metadata": {},
   "outputs": [
    {
     "data": {
      "text/plain": [
       "Text(0.5, 1.0, 'Model Score vs Time to Score: n_estimators(100-1000)')"
      ]
     },
     "execution_count": 67,
     "metadata": {},
     "output_type": "execute_result"
    },
    {
     "data": {
      "image/png": "[encoded data removed]",
      "text/plain": [
       "<Figure size 1152x576 with 2 Axes>"
      ]
     },
     "metadata": {
      "needs_background": "light"
     },
     "output_type": "display_data"
    }
   ],
   "source": [
    "# Plotting performance vs score of different number of trees\n",
    "\n",
    "fig, ax = plt.subplots(1,2, figsize = (16,8))\n",
    "\n",
    "ax[0].plot(train_time, score, marker='o', linestyle='dashed')\n",
    "ax[0].set_xlabel('Time to train (in Sec)')\n",
    "ax[0].set_ylabel('Model Score')\n",
    "ax[0].set_title('Model Score vs Time to Train: n_estimators(100-1000)')\n",
    "\n",
    "ax[1].plot(score_time, score, marker='o', linestyle='dashed')\n",
    "ax[1].set_xlabel('Time to test/score (in Sec)')\n",
    "ax[1].set_title('Model Score vs Time to Score: n_estimators(100-1000)')"
   ]
  },
  {
   "cell_type": "markdown",
   "metadata": {},
   "source": [
    "### Observations\n",
    "1. The score plateaus after 600 trees\n",
    "2. Model with 600 trees takes 3x more time than 200 trees with score of 0.7411 vs 0.7397\n",
    "3. 200 trees/estimators will be selected for the final model due to performance advantage"
   ]
  },
  {
   "cell_type": "code",
   "execution_count": 68,
   "metadata": {},
   "outputs": [
    {
     "data": {
      "text/plain": [
       "0.740844651503848"
      ]
     },
     "execution_count": 68,
     "metadata": {},
     "output_type": "execute_result"
    }
   ],
   "source": [
    "# Using Extra Trees regressor (Model of choice with highest score)\n",
    "\n",
    "etr = ExtraTreesRegressor(n_estimators=200, random_state=42, max_depth=30)\n",
    "etr.fit(X_train, y_train)\n",
    "etr.score(X_test, y_test)"
   ]
  },
  {
   "cell_type": "code",
   "execution_count": 69,
   "metadata": {},
   "outputs": [],
   "source": [
    "y_pred = etr.predict(X_test)"
   ]
  },
  {
   "cell_type": "code",
   "execution_count": 70,
   "metadata": {},
   "outputs": [
    {
     "data": {
      "text/plain": [
       "Text(0.5, 1.0, 'Prediction vs Actual log energy use')"
      ]
     },
     "execution_count": 70,
     "metadata": {},
     "output_type": "execute_result"
    },
    {
     "data": {
      "image/png": "[encoded data removed]",
      "text/plain": [
       "<Figure size 720x720 with 1 Axes>"
      ]
     },
     "metadata": {
      "needs_background": "light"
     },
     "output_type": "display_data"
    }
   ],
   "source": [
    "plt.figure(figsize=(10,10))\n",
    "plt.scatter(y_test, y_pred, marker='o', alpha=0.2)\n",
    "plt.xlim(2, 7)\n",
    "plt.ylim(2, 7)\n",
    "#plt.plot(np.unique(y_test), np.poly1d(np.polyfit(y_test, y_pred, 1))(np.unique(y_test)), c='r')\n",
    "plt.plot(np.linspace(2, 7, 10), np.linspace(2, 7, 10), c='r')\n",
    "plt.xlabel('Log energy use test set', size=16)\n",
    "plt.ylabel('Log energy use prediction', size = 16)\n",
    "plt.title('Prediction vs Actual log energy use', size = 20)"
   ]
  },
  {
   "cell_type": "code",
   "execution_count": 71,
   "metadata": {},
   "outputs": [
    {
     "data": {
      "text/plain": [
       "0.33635859292259385"
      ]
     },
     "execution_count": 71,
     "metadata": {},
     "output_type": "execute_result"
    }
   ],
   "source": [
    "# Computing Root Mean Squared Error\n",
    "\n",
    "RMSE = np.sqrt(np.mean((y_pred - y_test)**2))\n",
    "RMSE"
   ]
  },
  {
   "cell_type": "code",
   "execution_count": 72,
   "metadata": {},
   "outputs": [
    {
     "data": {
      "text/plain": [
       "0.050991611243382785"
      ]
     },
     "execution_count": 72,
     "metadata": {},
     "output_type": "execute_result"
    }
   ],
   "source": [
    "# Computing Mean Absolute Percentage Error\n",
    "\n",
    "MAPE = np.mean(np.abs(y_pred - y_test)/y_test)\n",
    "MAPE"
   ]
  },
  {
   "cell_type": "code",
   "execution_count": null,
   "metadata": {},
   "outputs": [],
   "source": []
  }
 ],
 "metadata": {
  "kernelspec": {
   "display_name": "base",
   "language": "python",
   "name": "python3"
  },
  "language_info": {
   "codemirror_mode": {
    "name": "ipython",
    "version": 3
   },
   "file_extension": ".py",
   "mimetype": "text/x-python",
   "name": "python",
   "nbconvert_exporter": "python",
   "pygments_lexer": "ipython3",
   "version": "3.9.7"
  }
 },
 "nbformat": 4,
 "nbformat_minor": 2
}
